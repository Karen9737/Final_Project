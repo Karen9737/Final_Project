{
 "cells": [
  {
   "cell_type": "code",
   "execution_count": 93,
   "metadata": {},
   "outputs": [
    {
     "name": "stdout",
     "output_type": "stream",
     "text": [
      "Tree is empty\n",
      "\n"
     ]
    }
   ],
   "source": [
    "from treelib import Tree, Node\n",
    "import json\n",
    "\n",
    "tree = Tree()\n",
    "tree.show()\n",
    "\n",
    "def readFile(file):\n",
    "    with open(file, \"r\") as f: # Open the file\n",
    "        file_read = json.load(f)\n",
    "        return file_read\n",
    "def writefile(file,data):\n",
    "    with open(file, \"w\") as f: # Open the file\n",
    "        f.write(data)\n"
   ]
  },
  {
   "cell_type": "code",
   "execution_count": 94,
   "metadata": {},
   "outputs": [],
   "source": [
    "data = readFile(\"yahoo_cache.json\")"
   ]
  },
  {
   "cell_type": "code",
   "execution_count": 95,
   "metadata": {},
   "outputs": [
    {
     "name": "stdout",
     "output_type": "stream",
     "text": [
      "['Consumer Cyclical', 'Technology', 'Healthcare', 'Industrials', 'Real Estate', 'Financial Services', 'Communication Services', 'Utilities', 'Basic Materials', 'Energy', 'Consumer Defensive']\n"
     ]
    }
   ],
   "source": [
    "list_sector = []\n",
    "for i in data:\n",
    "    try:\n",
    "        if data[i]['info']['sector'] not in list_sector:\n",
    "            list_sector.append(data[i]['info']['sector'])\n",
    "    except:\n",
    "        pass\n",
    "\n",
    "print(list_sector)"
   ]
  },
  {
   "cell_type": "code",
   "execution_count": 96,
   "metadata": {},
   "outputs": [
    {
     "name": "stdout",
     "output_type": "stream",
     "text": [
      "sector\n",
      "├── Basic Materials\n",
      "├── Communication Services\n",
      "├── Consumer Cyclical\n",
      "├── Consumer Defensive\n",
      "├── Energy\n",
      "├── Financial Services\n",
      "├── Healthcare\n",
      "├── Industrials\n",
      "├── Real Estate\n",
      "├── Technology\n",
      "└── Utilities\n",
      "\n"
     ]
    }
   ],
   "source": [
    "tree.create_node('sector','sector', parent=None)\n",
    "for item in list_sector:\n",
    "    tree.create_node(item, item, parent='sector')\n",
    "tree.show()"
   ]
  },
  {
   "cell_type": "code",
   "execution_count": 97,
   "metadata": {},
   "outputs": [
    {
     "name": "stdout",
     "output_type": "stream",
     "text": [
      "sector\n",
      "├── Basic Materials\n",
      "│   ├── AUST\n",
      "│   ├── CTVA\n",
      "│   └── RIO\n",
      "├── Communication Services\n",
      "│   ├── LSXMK\n",
      "│   ├── VIV\n",
      "│   └── ZDGE\n",
      "├── Consumer Cyclical\n",
      "│   ├── HYZN\n",
      "│   ├── M\n",
      "│   ├── SBET\n",
      "│   ├── SEAS\n",
      "│   ├── SHOO\n",
      "│   └── UFAB\n",
      "├── Consumer Defensive\n",
      "│   ├── BRID\n",
      "│   └── RMCF\n",
      "├── Energy\n",
      "│   ├── HPK\n",
      "│   ├── MTDR\n",
      "│   └── PUMP\n",
      "├── Financial Services\n",
      "│   ├── AMAL\n",
      "│   ├── BANF\n",
      "│   ├── CBU\n",
      "│   ├── CZNC\n",
      "│   ├── IOAC\n",
      "│   ├── LCNB\n",
      "│   ├── MBSC\n",
      "│   └── MUFG\n",
      "├── Healthcare\n",
      "│   ├── ANIK\n",
      "│   ├── APLT\n",
      "│   ├── AVNS\n",
      "│   ├── CRBU\n",
      "│   ├── GBS\n",
      "│   ├── HOWL\n",
      "│   ├── NARI\n",
      "│   ├── NURO\n",
      "│   ├── SELB\n",
      "│   ├── SNDL\n",
      "│   ├── VINC\n",
      "│   └── VIVO\n",
      "├── Industrials\n",
      "│   ├── AYI\n",
      "│   ├── CRS\n",
      "│   └── UNP\n",
      "├── Real Estate\n",
      "│   ├── ARL\n",
      "│   ├── CMCT\n",
      "│   ├── CSGP\n",
      "│   ├── FBRT\n",
      "│   ├── IIPR\n",
      "│   ├── IVR\n",
      "│   ├── STAR\n",
      "│   └── WHLR\n",
      "├── Technology\n",
      "│   ├── AAPL\n",
      "│   ├── AUUD\n",
      "│   ├── BBAI\n",
      "│   ├── CSCO\n",
      "│   ├── FSRD\n",
      "│   ├── IT\n",
      "│   ├── MSFT\n",
      "│   ├── NABL\n",
      "│   ├── QLYS\n",
      "│   ├── RENN\n",
      "│   ├── RSSS\n",
      "│   ├── SEAC\n",
      "│   ├── TEL\n",
      "│   └── VSH\n",
      "└── Utilities\n",
      "    └── EVRG\n",
      "\n"
     ]
    }
   ],
   "source": [
    "for i in data:\n",
    "    try:\n",
    "        for node in tree.all_nodes_itr():\n",
    "            if data[i]['info']['sector'] == node.tag:\n",
    "                tree.create_node(i, i, parent=node.tag, data=data[i])\n",
    "    except:\n",
    "            pass\n",
    "tree.show()\n"
   ]
  },
  {
   "cell_type": "code",
   "execution_count": 98,
   "metadata": {},
   "outputs": [
    {
     "name": "stdout",
     "output_type": "stream",
     "text": [
      "{\"sector\": {\"children\": [{\"Basic Materials\": {\"children\": [\"AUST\", \"CTVA\", \"RIO\"]}}, {\"Communication Services\": {\"children\": [\"LSXMK\", \"VIV\", \"ZDGE\"]}}, {\"Consumer Cyclical\": {\"children\": [\"HYZN\", \"M\", \"SBET\", \"SEAS\", \"SHOO\", \"UFAB\"]}}, {\"Consumer Defensive\": {\"children\": [\"BRID\", \"RMCF\"]}}, {\"Energy\": {\"children\": [\"HPK\", \"MTDR\", \"PUMP\"]}}, {\"Financial Services\": {\"children\": [\"AMAL\", \"BANF\", \"CBU\", \"CZNC\", \"IOAC\", \"LCNB\", \"MBSC\", \"MUFG\"]}}, {\"Healthcare\": {\"children\": [\"ANIK\", \"APLT\", \"AVNS\", \"CRBU\", \"GBS\", \"HOWL\", \"NARI\", \"NURO\", \"SELB\", \"SNDL\", \"VINC\", \"VIVO\"]}}, {\"Industrials\": {\"children\": [\"AYI\", \"CRS\", \"UNP\"]}}, {\"Real Estate\": {\"children\": [\"ARL\", \"CMCT\", \"CSGP\", \"FBRT\", \"IIPR\", \"IVR\", \"STAR\", \"WHLR\"]}}, {\"Technology\": {\"children\": [\"AAPL\", \"AUUD\", \"BBAI\", \"CSCO\", \"FSRD\", \"IT\", \"MSFT\", \"NABL\", \"QLYS\", \"RENN\", \"RSSS\", \"SEAC\", \"TEL\", \"VSH\"]}}, {\"Utilities\": {\"children\": [\"EVRG\"]}}]}}\n"
     ]
    }
   ],
   "source": [
    "d = tree.to_json()\n",
    "print(d)\n",
    "writefile(\"yahoo_tree.json\",d)"
   ]
  }
 ],
 "metadata": {
  "kernelspec": {
   "display_name": "Python 3",
   "language": "python",
   "name": "python3"
  },
  "language_info": {
   "codemirror_mode": {
    "name": "ipython",
    "version": 3
   },
   "file_extension": ".py",
   "mimetype": "text/x-python",
   "name": "python",
   "nbconvert_exporter": "python",
   "pygments_lexer": "ipython3",
   "version": "3.9.7 (v3.9.7:1016ef3790, Aug 30 2021, 16:39:15) \n[Clang 6.0 (clang-600.0.57)]"
  },
  "orig_nbformat": 4,
  "vscode": {
   "interpreter": {
    "hash": "aee8b7b246df8f9039afb4144a1f6fd8d2ca17a180786b69acc140d282b71a49"
   }
  }
 },
 "nbformat": 4,
 "nbformat_minor": 2
}
